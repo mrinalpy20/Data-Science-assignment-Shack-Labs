{
 "cells": [
  {
   "cell_type": "code",
   "execution_count": 2,
   "id": "c9df463a",
   "metadata": {},
   "outputs": [
    {
     "data": {
      "text/html": [
       "<div>\n",
       "<style scoped>\n",
       "    .dataframe tbody tr th:only-of-type {\n",
       "        vertical-align: middle;\n",
       "    }\n",
       "\n",
       "    .dataframe tbody tr th {\n",
       "        vertical-align: top;\n",
       "    }\n",
       "\n",
       "    .dataframe thead th {\n",
       "        text-align: right;\n",
       "    }\n",
       "</style>\n",
       "<table border=\"1\" class=\"dataframe\">\n",
       "  <thead>\n",
       "    <tr style=\"text-align: right;\">\n",
       "      <th></th>\n",
       "      <th>Transaction date</th>\n",
       "      <th>House Age</th>\n",
       "      <th>Distance from nearest Metro station (km)</th>\n",
       "      <th>Number of convenience stores</th>\n",
       "      <th>latitude</th>\n",
       "      <th>longitude</th>\n",
       "      <th>Number of bedrooms</th>\n",
       "      <th>House size (sqft)</th>\n",
       "      <th>House price of unit area</th>\n",
       "      <th>Total Price</th>\n",
       "    </tr>\n",
       "  </thead>\n",
       "  <tbody>\n",
       "    <tr>\n",
       "      <th>0</th>\n",
       "      <td>2013.333333</td>\n",
       "      <td>14.8</td>\n",
       "      <td>393.2606</td>\n",
       "      <td>6</td>\n",
       "      <td>24.96172</td>\n",
       "      <td>121.53812</td>\n",
       "      <td>2</td>\n",
       "      <td>1365</td>\n",
       "      <td>7.6</td>\n",
       "      <td>10374.0</td>\n",
       "    </tr>\n",
       "    <tr>\n",
       "      <th>1</th>\n",
       "      <td>2013.583333</td>\n",
       "      <td>17.4</td>\n",
       "      <td>6488.0210</td>\n",
       "      <td>1</td>\n",
       "      <td>24.95719</td>\n",
       "      <td>121.47353</td>\n",
       "      <td>3</td>\n",
       "      <td>933</td>\n",
       "      <td>11.2</td>\n",
       "      <td>10449.6</td>\n",
       "    </tr>\n",
       "    <tr>\n",
       "      <th>2</th>\n",
       "      <td>2012.750000</td>\n",
       "      <td>16.0</td>\n",
       "      <td>4066.5870</td>\n",
       "      <td>0</td>\n",
       "      <td>24.94297</td>\n",
       "      <td>121.50342</td>\n",
       "      <td>1</td>\n",
       "      <td>469</td>\n",
       "      <td>11.6</td>\n",
       "      <td>5440.4</td>\n",
       "    </tr>\n",
       "    <tr>\n",
       "      <th>3</th>\n",
       "      <td>2013.000000</td>\n",
       "      <td>30.9</td>\n",
       "      <td>6396.2830</td>\n",
       "      <td>1</td>\n",
       "      <td>24.94375</td>\n",
       "      <td>121.47883</td>\n",
       "      <td>1</td>\n",
       "      <td>495</td>\n",
       "      <td>12.2</td>\n",
       "      <td>6039.0</td>\n",
       "    </tr>\n",
       "    <tr>\n",
       "      <th>4</th>\n",
       "      <td>2013.000000</td>\n",
       "      <td>16.5</td>\n",
       "      <td>4082.0150</td>\n",
       "      <td>0</td>\n",
       "      <td>24.94155</td>\n",
       "      <td>121.50381</td>\n",
       "      <td>1</td>\n",
       "      <td>588</td>\n",
       "      <td>12.8</td>\n",
       "      <td>7526.4</td>\n",
       "    </tr>\n",
       "  </tbody>\n",
       "</table>\n",
       "</div>"
      ],
      "text/plain": [
       "   Transaction date  House Age  Distance from nearest Metro station (km)  \\\n",
       "0       2013.333333       14.8                                  393.2606   \n",
       "1       2013.583333       17.4                                 6488.0210   \n",
       "2       2012.750000       16.0                                 4066.5870   \n",
       "3       2013.000000       30.9                                 6396.2830   \n",
       "4       2013.000000       16.5                                 4082.0150   \n",
       "\n",
       "   Number of convenience stores  latitude  longitude  Number of bedrooms  \\\n",
       "0                             6  24.96172  121.53812                   2   \n",
       "1                             1  24.95719  121.47353                   3   \n",
       "2                             0  24.94297  121.50342                   1   \n",
       "3                             1  24.94375  121.47883                   1   \n",
       "4                             0  24.94155  121.50381                   1   \n",
       "\n",
       "   House size (sqft)  House price of unit area  Total Price   \n",
       "0               1365                       7.6       10374.0  \n",
       "1                933                      11.2       10449.6  \n",
       "2                469                      11.6        5440.4  \n",
       "3                495                      12.2        6039.0  \n",
       "4                588                      12.8        7526.4  "
      ]
     },
     "execution_count": 2,
     "metadata": {},
     "output_type": "execute_result"
    }
   ],
   "source": [
    "import pandas as pd\n",
    "data=pd.read_excel(\"DS - Assignment Part 1 data set.xlsx\")#Loading data in dataframe\n",
    "df = pd.DataFrame(data)\n",
    "df.head()\n"
   ]
  },
  {
   "cell_type": "code",
   "execution_count": null,
   "id": "539ff475",
   "metadata": {},
   "outputs": [],
   "source": [
    "#First of all we will perform feature selection on basis on different features we will visualize the prices on dependent on each\n",
    "# feature and select the best set of features to apply our machine learing model."
   ]
  },
  {
   "cell_type": "code",
   "execution_count": 4,
   "id": "735d4cdb",
   "metadata": {},
   "outputs": [
    {
     "data": {
      "image/png": "[encoded data removed]",
      "text/plain": [
       "<Figure size 432x288 with 1 Axes>"
      ]
     },
     "metadata": {
      "needs_background": "light"
     },
     "output_type": "display_data"
    }
   ],
   "source": [
    "# 'House Age' vs \"Total Price\"\n",
    "price=df[\"Total Price \"]\n",
    "\n",
    "age=df['House Age']\n",
    "\n",
    "from matplotlib import pyplot as plt\n",
    "  \n",
    "\n",
    "plt.scatter(age,price)\n",
    "plt.xlabel(\"Age\")\n",
    "plt.ylabel(\"Price\")\n",
    "\n",
    "plt.show()"
   ]
  },
  {
   "cell_type": "code",
   "execution_count": 5,
   "id": "a81f9f21",
   "metadata": {},
   "outputs": [
    {
     "data": {
      "image/png": "[encoded data removed]",
      "text/plain": [
       "<Figure size 432x288 with 1 Axes>"
      ]
     },
     "metadata": {
      "needs_background": "light"
     },
     "output_type": "display_data"
    }
   ],
   "source": [
    "# 'Distance from nearest Metro station (km)' vs \"House price of unit area\"\n",
    "distance=df['Distance from nearest Metro station (km)']\n",
    "price=df[\"Total Price \"]\n",
    "plt.scatter(distance,price)\n",
    "plt.xlabel(\"Distance\")\n",
    "plt.ylabel(\"Price\")\n",
    "\n",
    "plt.show()"
   ]
  },
  {
   "cell_type": "code",
   "execution_count": 6,
   "id": "53b77b0e",
   "metadata": {},
   "outputs": [
    {
     "data": {
      "image/png": "[encoded data removed]",
      "text/plain": [
       "<Figure size 432x288 with 1 Axes>"
      ]
     },
     "metadata": {
      "needs_background": "light"
     },
     "output_type": "display_data"
    },
    {
     "name": "stdout",
     "output_type": "stream",
     "text": [
      "OrderedDict([(0, 67), (1, 46), (2, 24), (3, 46), (4, 31), (5, 67), (6, 37), (7, 31), (8, 30), (9, 25), (10, 10)])\n"
     ]
    }
   ],
   "source": [
    "from collections import OrderedDict\n",
    "# 'Number of convenience stores' vs 'Total Price '\n",
    "stores=df['Number of convenience stores']\n",
    "\n",
    "plt.scatter(stores,price)\n",
    "plt.xlabel(\"Stores\")\n",
    "plt.ylabel(\"Price\")\n",
    "\n",
    "plt.show()\n",
    "\n",
    "d={}\n",
    "for i in stores:\n",
    "    if i not in d:\n",
    "        d[i]=1\n",
    "    else:\n",
    "        d[i]=d[i]+1\n",
    "d = OrderedDict(sorted(d.items()))\n",
    "print(d)#Getting the number of covenience stores"
   ]
  },
  {
   "cell_type": "code",
   "execution_count": 10,
   "id": "ae8afeb8",
   "metadata": {},
   "outputs": [
    {
     "data": {
      "image/png": "[encoded data removed]",
      "text/plain": [
       "<Figure size 432x288 with 1 Axes>"
      ]
     },
     "metadata": {
      "needs_background": "light"
     },
     "output_type": "display_data"
    },
    {
     "name": "stdout",
     "output_type": "stream",
     "text": [
      "OrderedDict([(1, 141), (2, 137), (3, 136)])\n"
     ]
    }
   ],
   "source": [
    "# 'Number of bedrooms' vs 'Total Price '\n",
    "stores=df['Number of bedrooms']\n",
    "Price=df['Total Price ']\n",
    "plt.scatter(stores,Price)\n",
    "plt.xlabel(\"Bedrooms\")\n",
    "plt.ylabel(\"Price\")\n",
    "\n",
    "plt.show()\n",
    "d={}\n",
    "for i in stores:\n",
    "    if i not in d:\n",
    "        d[i]=1\n",
    "    else:\n",
    "        d[i]=d[i]+1\n",
    "d = OrderedDict(sorted(d.items()))\n",
    "print(d)#Getting the number of bedrooms"
   ]
  },
  {
   "cell_type": "code",
   "execution_count": 12,
   "id": "9e0eed72",
   "metadata": {},
   "outputs": [
    {
     "data": {
      "image/png": "[encoded data removed]",
      "text/plain": [
       "<Figure size 432x288 with 1 Axes>"
      ]
     },
     "metadata": {
      "needs_background": "light"
     },
     "output_type": "display_data"
    }
   ],
   "source": [
    "# 'House size (sqft)' vs 'Total Price '\n",
    "Housesize=df['House size (sqft)']\n",
    "Price=df['Total Price ']\n",
    "plt.scatter(Housesize,Price)\n",
    "plt.xlabel(\"HouseSize\")\n",
    "plt.ylabel(\"Price\")\n",
    "\n",
    "plt.show()"
   ]
  },
  {
   "cell_type": "code",
   "execution_count": null,
   "id": "358a5629",
   "metadata": {},
   "outputs": [],
   "source": [
    "# From the analysis and visualization above we have selected 3 primary features 'House size (sqft)','Distance from nearest Metro station (km)','House Age'\n",
    "# and selected the Muliple regression model to predict the house prices"
   ]
  },
  {
   "cell_type": "code",
   "execution_count": 7,
   "id": "a6cd296b",
   "metadata": {},
   "outputs": [
    {
     "data": {
      "text/plain": [
       "LinearRegression()"
      ]
     },
     "execution_count": 7,
     "metadata": {},
     "output_type": "execute_result"
    }
   ],
   "source": [
    "#importing machinelearing libraries\n",
    "from sklearn import linear_model\n",
    "from sklearn.model_selection import train_test_split\n",
    "Features=['House size (sqft)','Distance from nearest Metro station (km)','House Age']\n",
    "reg=linear_model.LinearRegression()\n",
    "reg.fit(df[Features],df['Total Price '] )"
   ]
  },
  {
   "cell_type": "code",
   "execution_count": 31,
   "id": "31d0861c",
   "metadata": {},
   "outputs": [
    {
     "data": {
      "text/plain": [
       "array([  39.60861223,   -6.91252004, -254.15102902])"
      ]
     },
     "execution_count": 31,
     "metadata": {},
     "output_type": "execute_result"
    }
   ],
   "source": [
    "reg.coef_"
   ]
  },
  {
   "cell_type": "code",
   "execution_count": 8,
   "id": "347a1637",
   "metadata": {},
   "outputs": [
    {
     "data": {
      "text/plain": [
       "10697.385532527634"
      ]
     },
     "execution_count": 8,
     "metadata": {},
     "output_type": "execute_result"
    }
   ],
   "source": [
    "reg.intercept_"
   ]
  },
  {
   "cell_type": "code",
   "execution_count": 9,
   "id": "b08de315",
   "metadata": {},
   "outputs": [
    {
     "data": {
      "text/plain": [
       "array([58234.2554209])"
      ]
     },
     "execution_count": 9,
     "metadata": {},
     "output_type": "execute_result"
    }
   ],
   "source": [
    "reg.predict([[1365,393,15]])"
   ]
  },
  {
   "cell_type": "code",
   "execution_count": 10,
   "id": "102741e8",
   "metadata": {},
   "outputs": [
    {
     "data": {
      "text/plain": [
       "LinearRegression()"
      ]
     },
     "execution_count": 10,
     "metadata": {},
     "output_type": "execute_result"
    }
   ],
   "source": [
    "X=df[['House size (sqft)','Distance from nearest Metro station (km)','House Age']]\n",
    "Y=df['Total Price ']\n",
    "X_train, X_test, y_train, y_test = train_test_split(X,Y,test_size=0.2)\n",
    "c=linear_model.LinearRegression()\n",
    "c.fit(X_train,y_train)\n"
   ]
  },
  {
   "cell_type": "code",
   "execution_count": 14,
   "id": "737d2195",
   "metadata": {},
   "outputs": [
    {
     "data": {
      "text/plain": [
       "array([32443.54488263, 54621.81682253, 27518.01104735, 13485.69360667,\n",
       "       49763.20107999, 52732.96226267, 22559.20569137,  8006.61181174,\n",
       "       15396.67352409, 26046.85607635, 41921.11801212, 59069.36013502,\n",
       "       26893.40954903, 43318.68797148, 25070.04316879, 64769.43361732,\n",
       "       36375.56599112, 17979.16555427, 54458.71537996, 57115.61222966,\n",
       "       50357.16954018, 33998.40330515, 44161.63831485, 52853.78012264,\n",
       "       31590.02580615, 45320.95869483, 51165.06291323, 25448.07017938,\n",
       "       48010.62391609, 61783.61414088, 20767.73284538, 26786.40280598,\n",
       "       32962.85089107, 44182.07114085, 28329.33155591, 43873.52673208,\n",
       "       23624.24446487, 31402.40974372, 44014.22335542, 51390.78011482,\n",
       "       31929.16339728, 16500.53232142, 17864.56093899, 49024.24544613,\n",
       "       57296.91213172, 50458.32517136, 60451.82661706, 45582.90271624,\n",
       "       19870.67888124, 46636.49853422, 38603.10877258, 57372.53114496,\n",
       "       56332.65703859, -2068.00708815, 17115.3149325 , 17529.87574402,\n",
       "       33022.81379418, 38607.43863709, 27772.41168686, 39822.03039383,\n",
       "       25231.83630143, 33968.82142411, 31392.17145711, 15615.4938535 ,\n",
       "       23925.30700029, 12833.75480881, 40357.10451403, 25977.90837402,\n",
       "       48361.85640045, 18004.17438433, 28964.8082362 , 34414.87135039,\n",
       "       21748.22904179,  -513.83185097, 23021.76757399, 19725.47138374,\n",
       "       28224.88647903, 41515.14126535, 15803.1151995 , 52054.13473925,\n",
       "       65063.16273936, 22708.02618114, 23198.76429524])"
      ]
     },
     "execution_count": 14,
     "metadata": {},
     "output_type": "execute_result"
    }
   ],
   "source": [
    "c.predict(X_test)"
   ]
  },
  {
   "cell_type": "code",
   "execution_count": 15,
   "id": "24cd964a",
   "metadata": {},
   "outputs": [
    {
     "data": {
      "text/plain": [
       "0.775767734605855"
      ]
     },
     "execution_count": 15,
     "metadata": {},
     "output_type": "execute_result"
    }
   ],
   "source": [
    "c.score(X_test,y_test) #Accuracy"
   ]
  },
  {
   "cell_type": "code",
   "execution_count": 16,
   "id": "7cba54e0",
   "metadata": {},
   "outputs": [
    {
     "name": "stdout",
     "output_type": "stream",
     "text": [
      "Accuracy of BayesianRidge 0.7761082845649787\n",
      "Accuracy of ElasticNet 0.7757679718035226\n",
      "Accuracy of RandomForest 0.8154263887775712\n"
     ]
    }
   ],
   "source": [
    "from sklearn.linear_model import BayesianRidge \n",
    "from sklearn.linear_model import ElasticNet \n",
    "from sklearn.ensemble import RandomForestRegressor\n",
    "\n",
    "b = BayesianRidge()\n",
    "b.fit(X_train, y_train)\n",
    "by = b.predict(X_test)\n",
    "print(\"Accuracy of BayesianRidge\",b.score(X_test,y_test))\n",
    "\n",
    "\n",
    "e = ElasticNet(alpha = 0.01)\n",
    "e.fit(X_train, y_train)\n",
    "en = e.predict(X_test)\n",
    "print(\"Accuracy of ElasticNet\",e.score(X_test,y_test))\n",
    "\n",
    "Rf = RandomForestRegressor(n_estimators=40)\n",
    "Rf.fit(X_train, y_train)\n",
    "Rfr = Rf.predict(X_test)\n",
    "print(\"Accuracy of RandomForest\",Rf.score(X_test,y_test))"
   ]
  },
  {
   "cell_type": "code",
   "execution_count": null,
   "id": "e208c976",
   "metadata": {},
   "outputs": [],
   "source": [
    "#Thus random forest gives the best accuracy therefore the machine learning model with the best fit is Random forest."
   ]
  }
 ],
 "metadata": {
  "kernelspec": {
   "display_name": "Python 3",
   "language": "python",
   "name": "python3"
  },
  "language_info": {
   "codemirror_mode": {
    "name": "ipython",
    "version": 3
   },
   "file_extension": ".py",
   "mimetype": "text/x-python",
   "name": "python",
   "nbconvert_exporter": "python",
   "pygments_lexer": "ipython3",
   "version": "3.8.8"
  }
 },
 "nbformat": 4,
 "nbformat_minor": 5
}
